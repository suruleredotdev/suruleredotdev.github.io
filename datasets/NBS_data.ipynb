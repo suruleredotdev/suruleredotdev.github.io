{
 "cells": [
  {
   "cell_type": "code",
   "execution_count": 32,
   "metadata": {},
   "outputs": [],
   "source": [
    "example_xls = xlrd.open_workbook(\"nbs-state-commodity-costs-data/selected_food_august_2020.xlsx\")"
   ]
  },
  {
   "cell_type": "code",
   "execution_count": 33,
   "metadata": {
    "scrolled": true
   },
   "outputs": [
    {
     "data": {
      "text/plain": [
       "['ABIA',\n",
       " 'ABUJA',\n",
       " 'ANAMBRA',\n",
       " 'EBONYI',\n",
       " 'ENUGU',\n",
       " 'IMO',\n",
       " 'AKWA IBOM',\n",
       " 'BAYELSA',\n",
       " 'CROSS RIVER',\n",
       " 'DELTA',\n",
       " 'RIVERS',\n",
       " 'EDO',\n",
       " 'ADAMAWA',\n",
       " 'BAUCHI',\n",
       " 'BORNO',\n",
       " 'GOMBE',\n",
       " 'TARABA',\n",
       " 'YOBE',\n",
       " 'BENUE',\n",
       " 'KOGI',\n",
       " 'KWARA',\n",
       " 'NASSARAWA',\n",
       " 'NIGER',\n",
       " 'PLATEAU',\n",
       " 'EKITI',\n",
       " 'LAGOS',\n",
       " 'ONDO',\n",
       " 'OGUN ',\n",
       " 'OSUN',\n",
       " 'OYO',\n",
       " 'JIGAWA ',\n",
       " 'KADUNA ',\n",
       " 'KANO ',\n",
       " 'KATSINA',\n",
       " 'KEBBI ',\n",
       " 'ZAMFARA ',\n",
       " 'SOKOTO',\n",
       " 'NATIONAL']"
      ]
     },
     "execution_count": 33,
     "metadata": {},
     "output_type": "execute_result"
    }
   ],
   "source": [
    "example_xls.sheet_names()"
   ]
  },
  {
   "cell_type": "code",
   "execution_count": 8,
   "metadata": {},
   "outputs": [],
   "source": [
    "STATES = [\n",
    "    \"Abia\",\n",
    "    \"Adamawa\",\n",
    "    \"Akwa Ibom\",\n",
    "    \"Anambra\",\n",
    "    \"Bauchi\",\n",
    "    \"Bayelsa\",\n",
    "    \"Benue\",\n",
    "    \"Borno\",\n",
    "    \"Cross River\",\n",
    "    \"Delta\",\n",
    "    \"Ebonyi\",\n",
    "    \"Edo\",\n",
    "    \"Ekiti\",\n",
    "    \"Enugu\",\n",
    "    \"Gombe\",\n",
    "    \"Imo\",\n",
    "    \"Jigawa\",\n",
    "    \"Kaduna\",\n",
    "    \"Kano\",\n",
    "    \"Katsina\",\n",
    "    \"Kebbi\",\n",
    "    \"Kogi\",\n",
    "    \"Kwara\",\n",
    "    \"Lagos\",\n",
    "    \"Nasarawa\",\n",
    "    \"Niger\",\n",
    "    \"Ogun\",\n",
    "    \"Ondo\",\n",
    "    \"Osun\",\n",
    "    \"Oyo\",\n",
    "    \"Plateau\",\n",
    "    \"Rivers\",\n",
    "    \"Sokoto\",\n",
    "    \"Taraba\",\n",
    "    \"Yobe\",\n",
    "    \"Zamfara\"\n",
    "]"
   ]
  },
  {
   "cell_type": "code",
   "execution_count": 36,
   "metadata": {},
   "outputs": [],
   "source": [
    "assert ([x.upper() for x in STATES]).sort() == ([x.strip() for x in example_xls.sheet_names()]).sort()"
   ]
  },
  {
   "cell_type": "code",
   "execution_count": 54,
   "metadata": {},
   "outputs": [],
   "source": [
    "import xlrd\n",
    "import csv\n",
    "import os\n",
    "\n",
    "def csv_from_excel(filename):\n",
    "    wb = xlrd.open_workbook(filename)\n",
    "    for sheet in wb.sheet_names():\n",
    "        sh = wb.sheet_by_name(sheet)\n",
    "        wb_name = os.path.splitext(filename)[0]\n",
    "        csv_file = open(wb_name.strip() + \"_\" + sheet.strip() + '.csv', 'w')\n",
    "        wr = csv.writer(csv_file, quoting=csv.QUOTE_ALL)\n",
    "\n",
    "        start_writing = False\n",
    "        for rownum in range(sh.nrows):\n",
    "            row_values = sh.row_values(rownum)[:-2] # trim off aggregate MoM and YoY values (for now)\n",
    "            # convert date values on header row of data\n",
    "            if row_values[0] == \"ItemLabels\":\n",
    "                # don't start writing to the sheet till \"ItemLabels\" row\n",
    "                # b/c some of the data files have padding rows at the top that aren't needed\n",
    "                start_writing = True \n",
    "                # print(row_values[1:])\n",
    "                date_values = [xlrd.xldate.xldate_as_datetime(val, wb.datemode).strftime(\"%b %Y\") for val in row_values[1:] if isinstance(val, float)]\n",
    "                # print(date_values)\n",
    "                row_values[1:len(date_values)+1] = date_values\n",
    "            if start_writing: wr.writerow(row_values)\n",
    "\n",
    "        csv_file.close()"
   ]
  },
  {
   "cell_type": "code",
   "execution_count": 55,
   "metadata": {},
   "outputs": [],
   "source": [
    "csv_from_excel(\"nbs-state-commodity-costs-data/selected_food_august_2020.xlsx\")"
   ]
  },
  {
   "cell_type": "code",
   "execution_count": 56,
   "metadata": {},
   "outputs": [],
   "source": [
    "csv_from_excel(\"nbs-state-commodity-costs-data/transport_cost_august_2020.xlsx\")"
   ]
  },
  {
   "cell_type": "markdown",
   "metadata": {},
   "source": [
    "above commands (In [20]) and (In [16]) should have created a new CSV in the same directory corresponding to each data-sheet with statistics for individual states"
   ]
  },
  {
   "cell_type": "code",
   "execution_count": 21,
   "metadata": {},
   "outputs": [],
   "source": [
    "from geojson import Feature, FeatureCollection, Point"
   ]
  },
  {
   "cell_type": "code",
   "execution_count": null,
   "metadata": {},
   "outputs": [],
   "source": [
    "def geojson_features_from_csv(filename):\n",
    "    features = []\n",
    "    with open(filename, newline='') as csvfile:\n",
    "        reader = csv.reader(csvfile, delimiter=',')\n",
    "        headers = next(reader)\n",
    "        for latitude, longitude, weather, temp in reader:\n",
    "            latitude, longitude = map(float, (latitude, longitude))\n",
    "            features.append(\n",
    "                Feature(\n",
    "                    geometry = Point((longitude, latitude)),\n",
    "                    properties = {\n",
    "                        'weather': weather,\n",
    "                        'temp': temp\n",
    "                    }\n",
    "                )\n",
    "            )\n",
    "\n",
    "    collection = FeatureCollection(features)\n",
    "    with open(\"GeoObs.json\", \"w\") as f:\n",
    "        f.write('%s' % collection)"
   ]
  }
 ],
 "metadata": {
  "kernelspec": {
   "display_name": "Python 3",
   "language": "python",
   "name": "python3"
  },
  "language_info": {
   "codemirror_mode": {
    "name": "ipython",
    "version": 3
   },
   "file_extension": ".py",
   "mimetype": "text/x-python",
   "name": "python",
   "nbconvert_exporter": "python",
   "pygments_lexer": "ipython3",
   "version": "3.6.2"
  }
 },
 "nbformat": 4,
 "nbformat_minor": 4
}
